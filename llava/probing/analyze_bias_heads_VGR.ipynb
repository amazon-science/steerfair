{
 "cells": [
  {
   "cell_type": "code",
   "execution_count": 1,
   "id": "7d2b54c0-ea67-4755-9212-27f2ef3b4ea4",
   "metadata": {},
   "outputs": [],
   "source": [
    "import numpy as np\n",
    "from einops import rearrange\n",
    "\n",
    "from utils import *\n",
    "\n",
    "from tqdm import tqdm\n",
    "import matplotlib.pyplot as plt\n",
    "from scipy import linalg\n",
    "from sklearn.metrics.pairwise import cosine_similarity\n",
    "\n",
    "import os"
   ]
  },
  {
   "cell_type": "code",
   "execution_count": 2,
   "id": "cb2c6c7c-d56f-4fb6-914b-b0ff508bc80b",
   "metadata": {},
   "outputs": [],
   "source": [
    " # HARDCODED FOR LLAVA\n",
    "num_heads_llm = 40\n",
    "num_layers_llm = 40"
   ]
  },
  {
   "cell_type": "code",
   "execution_count": 3,
   "id": "fff7887b-4cca-424a-a45b-412cfaef2950",
   "metadata": {},
   "outputs": [],
   "source": [
    "base_dir = 'vgr_probing/features_bias_2/train'\n",
    "val_ratio = 0.2\n",
    "n_samples = 200"
   ]
  },
  {
   "cell_type": "code",
   "execution_count": 4,
   "id": "64409b9f-5359-4113-ab6f-1c0b9e52a128",
   "metadata": {},
   "outputs": [
    {
     "name": "stdout",
     "output_type": "stream",
     "text": [
      "(200, 40, 5120)\n",
      "(200, 40, 5120)\n",
      "(200, 40, 40, 128) (200, 40, 40, 128)\n"
     ]
    }
   ],
   "source": [
    "head_truth = np.load(os.path.join(base_dir, \"truth\", f\"head_wise_{n_samples}_llm.npy\"))\n",
    "print(head_truth.shape)\n",
    "head_truth = rearrange(head_truth, 'b l (h d) -> b l h d', h = num_heads_llm)\n",
    "\n",
    "head_bias = np.load(os.path.join(base_dir, \"bias\", f\"head_wise_{n_samples}_llm.npy\"))\n",
    "print(head_bias.shape)\n",
    "head_bias = rearrange(head_bias, 'b l (h d) -> b l h d', h = num_heads_llm)\n",
    "\n",
    "labels_truth = np.load(os.path.join(base_dir, \"truth\", f\"labels_{n_samples}.npy\"))\n",
    "labels_bias = np.load(os.path.join(base_dir, \"bias\", f\"labels_{n_samples}.npy\"))\n",
    "\n",
    "print(head_truth.shape, head_bias.shape)"
   ]
  },
  {
   "cell_type": "code",
   "execution_count": 5,
   "id": "2e33a394-30c8-4be1-87a8-09a332d64cc8",
   "metadata": {},
   "outputs": [
    {
     "name": "stdout",
     "output_type": "stream",
     "text": [
      "[0 1] [2 3]\n"
     ]
    }
   ],
   "source": [
    "print(np.unique(labels_truth), np.unique(labels_bias))"
   ]
  },
  {
   "cell_type": "markdown",
   "id": "d17db063-b4e3-4ec4-8349-a3768ff70b23",
   "metadata": {},
   "source": [
    "## Lets analyze the accuracy"
   ]
  },
  {
   "cell_type": "code",
   "execution_count": 6,
   "id": "e8bd6052-0795-4582-b1ed-567f43abfa3e",
   "metadata": {},
   "outputs": [],
   "source": [
    "def get_performance_dict(X, y, num_layers, num_heads):\n",
    "    head_perf_dict = {f'l{l}_h{h}': [] for l in range(num_layers) for h in range(num_heads)}\n",
    "    for l in tqdm(range(num_layers)):\n",
    "        for h in range(num_heads):\n",
    "            X_probe = X[:, l, h, :]\n",
    "            y_probe = y[:]\n",
    "            _, val_acc = train_single_prob(X_probe, y_probe, val_size=val_ratio)\n",
    "            head_perf_dict[f'l{l}_h{h}'] = val_acc\n",
    "    return head_perf_dict"
   ]
  },
  {
   "cell_type": "code",
   "execution_count": 7,
   "id": "4ab25a96-0348-4e11-b7de-c18e42fbc959",
   "metadata": {},
   "outputs": [],
   "source": [
    "def get_perf_array(X_all, y_all, num_layers, num_heads):\n",
    "    head_perf_dict = get_performance_dict(X_all, y_all, num_layers, num_heads)\n",
    "    l_h_means = np.array(list(head_perf_dict.values())).reshape(num_layers, num_heads) # row = heads | colums = layers\n",
    "    return l_h_means"
   ]
  },
  {
   "cell_type": "code",
   "execution_count": 8,
   "id": "dd7132aa-bfe2-4e98-8fa2-1883c67c5b6f",
   "metadata": {},
   "outputs": [
    {
     "name": "stderr",
     "output_type": "stream",
     "text": [
      "100%|█████████████████████████████████████████████████████████████████████████████████████████████████████████████| 40/40 [00:27<00:00,  1.48it/s]\n"
     ]
    }
   ],
   "source": [
    "perf = get_perf_array(np.vstack((head_bias,head_truth)), np.hstack((labels_bias, labels_truth)), num_layers_llm, num_heads_llm)"
   ]
  },
  {
   "cell_type": "code",
   "execution_count": 9,
   "id": "2770da4c-1de3-4c07-8fc5-8dbc1c209176",
   "metadata": {},
   "outputs": [
    {
     "name": "stderr",
     "output_type": "stream",
     "text": [
      "/tmp/ipykernel_316457/1397437595.py:1: MatplotlibDeprecationWarning: The get_cmap function was deprecated in Matplotlib 3.7 and will be removed two minor releases later. Use ``matplotlib.colormaps[name]`` or ``matplotlib.colormaps.get_cmap(obj)`` instead.\n",
      "  orig_map=plt.cm.get_cmap('viridis')\n"
     ]
    },
    {
     "data": {
      "image/png": "[encoded data removed]",
      "text/plain": [
       "<Figure size 640x480 with 2 Axes>"
      ]
     },
     "metadata": {},
     "output_type": "display_data"
    }
   ],
   "source": [
    "orig_map=plt.cm.get_cmap('viridis') \n",
    "reversed_map = orig_map.reversed() \n",
    "\n",
    "plt.imshow(perf, cmap = reversed_map)\n",
    "plt.colorbar()\n",
    "plt.xlabel('# head')\n",
    "plt.ylabel('# layer')\n",
    "plt.show()"
   ]
  },
  {
   "cell_type": "code",
   "execution_count": null,
   "id": "28117157-21cb-41e3-aa71-335490fa032f",
   "metadata": {},
   "outputs": [],
   "source": []
  }
 ],
 "metadata": {
  "kernelspec": {
   "display_name": "Python 3 (ipykernel)",
   "language": "python",
   "name": "python3"
  },
  "language_info": {
   "codemirror_mode": {
    "name": "ipython",
    "version": 3
   },
   "file_extension": ".py",
   "mimetype": "text/x-python",
   "name": "python",
   "nbconvert_exporter": "python",
   "pygments_lexer": "ipython3",
   "version": "3.10.12"
  }
 },
 "nbformat": 4,
 "nbformat_minor": 5
}
